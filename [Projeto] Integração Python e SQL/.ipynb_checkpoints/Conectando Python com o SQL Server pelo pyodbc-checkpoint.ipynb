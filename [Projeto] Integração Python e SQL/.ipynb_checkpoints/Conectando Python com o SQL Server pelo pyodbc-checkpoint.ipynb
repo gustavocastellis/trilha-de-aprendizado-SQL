{
 "cells": [
  {
   "cell_type": "code",
   "execution_count": 1,
   "id": "9b1544ee",
   "metadata": {},
   "outputs": [
    {
     "name": "stdout",
     "output_type": "stream",
     "text": [
      "Requirement already satisfied: pyodbc in c:\\users\\gustavoanthonitadini\\anaconda3\\lib\\site-packages (4.0.34)\n",
      "Note: you may need to restart the kernel to use updated packages.\n"
     ]
    }
   ],
   "source": [
    "pip install pyodbc"
   ]
  },
  {
   "cell_type": "code",
   "execution_count": 1,
   "id": "9c1c0153",
   "metadata": {},
   "outputs": [
    {
     "name": "stdout",
     "output_type": "stream",
     "text": [
      "Conexão Bem Sucedida\n"
     ]
    }
   ],
   "source": [
    "import pyodbc\n",
    "\n",
    "dados_conexao = (\n",
    "    \"Driver={SQL Server};\"\n",
    "    \"Server=guK;\"\n",
    "    \"Database=PythonSQL;\"\n",
    ")\n",
    "\n",
    "conexao = pyodbc.connect(dados_conexao)\n",
    "print(\"Conexão Bem Sucedida\")"
   ]
  },
  {
   "cell_type": "code",
   "execution_count": 3,
   "id": "8b558dd7",
   "metadata": {},
   "outputs": [],
   "source": [
    "cursor = conexao.cursor()\n",
    "\n",
    "id = 5\n",
    "data = '29/05/2022'\n",
    "cliente = 'Marcio'\n",
    "produto = 'Celular'\n",
    "valor = 1030\n",
    "qtd = 1\n",
    "\n",
    "comando = f\"\"\"INSERT INTO Vendas VALUES ('{data}','{cliente}','{produto}',{valor},{qtd})\"\"\"\n",
    "\n",
    "cursor. execute(comando)\n",
    "\n",
    "cursor.commit()"
   ]
  }
 ],
 "metadata": {
  "kernelspec": {
   "display_name": "Python 3 (ipykernel)",
   "language": "python",
   "name": "python3"
  },
  "language_info": {
   "codemirror_mode": {
    "name": "ipython",
    "version": 3
   },
   "file_extension": ".py",
   "mimetype": "text/x-python",
   "name": "python",
   "nbconvert_exporter": "python",
   "pygments_lexer": "ipython3",
   "version": "3.9.13"
  }
 },
 "nbformat": 4,
 "nbformat_minor": 5
}
